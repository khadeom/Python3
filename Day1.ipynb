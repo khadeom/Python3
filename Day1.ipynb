{
 "cells": [
  {
   "cell_type": "markdown",
   "id": "d2d679af",
   "metadata": {},
   "source": [
    "# Curriculum\n",
    " \n",
    " - Python Basics\n",
    "     - Numbers\n",
    "     - Strings\n",
    "     - Lists\n",
    "     - Dictonaries\n",
    "     - Tuples\n",
    "     - Sets\n",
    "     - Booleans\n",
    "--------\n",
    " \n",
    " - Comparision Operators\n",
    "     - Basic Operators\n",
    "--------    \n",
    " - Python Statenments\n",
    "     - if, elif, else\n",
    "     - while loops\n",
    "     - for loops\n",
    "     - range\n",
    "     - List Comprehension\n",
    "--------\n",
    " - Methodes And Functions\n",
    "     - Lambda Functions\n",
    "     - Nested Statenments\n",
    "     - Recursion\n",
    "     - Scope\n",
    "---------------------  \n",
    " - Object Oriented Programming\n",
    " - Modules and Packages\n",
    " - Errors and Exception Handling\n"
   ]
  },
  {
   "cell_type": "code",
   "execution_count": 20,
   "id": "a7de88bb",
   "metadata": {},
   "outputs": [],
   "source": [
    "s=\"this is python\""
   ]
  },
  {
   "cell_type": "code",
   "execution_count": 25,
   "id": "dec25035",
   "metadata": {},
   "outputs": [
    {
     "data": {
      "text/plain": [
       "'n'"
      ]
     },
     "execution_count": 25,
     "metadata": {},
     "output_type": "execute_result"
    }
   ],
   "source": [
    "s[-1]"
   ]
  },
  {
   "cell_type": "code",
   "execution_count": 29,
   "id": "9d3f732c",
   "metadata": {},
   "outputs": [],
   "source": [
    "l3=[s,'om',6,8,l]"
   ]
  },
  {
   "cell_type": "code",
   "execution_count": 30,
   "id": "fb65831b",
   "metadata": {},
   "outputs": [
    {
     "name": "stdout",
     "output_type": "stream",
     "text": [
      "['this is python', 'om', 6, 8, ['this is python', 'om', 6, 8]]\n"
     ]
    }
   ],
   "source": [
    "print(l3)"
   ]
  },
  {
   "cell_type": "code",
   "execution_count": 1,
   "id": "3b62e7c4",
   "metadata": {},
   "outputs": [
    {
     "data": {
      "text/plain": [
       "8"
      ]
     },
     "execution_count": 1,
     "metadata": {},
     "output_type": "execute_result"
    }
   ],
   "source": [
    "4 +4"
   ]
  },
  {
   "cell_type": "code",
   "execution_count": 2,
   "id": "fc99d288",
   "metadata": {},
   "outputs": [
    {
     "data": {
      "text/plain": [
       "1"
      ]
     },
     "execution_count": 2,
     "metadata": {},
     "output_type": "execute_result"
    }
   ],
   "source": [
    "5-4"
   ]
  },
  {
   "cell_type": "code",
   "execution_count": 3,
   "id": "3d7e91b3",
   "metadata": {},
   "outputs": [
    {
     "data": {
      "text/plain": [
       "16"
      ]
     },
     "execution_count": 3,
     "metadata": {},
     "output_type": "execute_result"
    }
   ],
   "source": [
    "4*4"
   ]
  },
  {
   "cell_type": "code",
   "execution_count": 4,
   "id": "9acaf8f6",
   "metadata": {},
   "outputs": [
    {
     "data": {
      "text/plain": [
       "21"
      ]
     },
     "execution_count": 4,
     "metadata": {},
     "output_type": "execute_result"
    }
   ],
   "source": [
    "6 + 2*7 +1"
   ]
  },
  {
   "cell_type": "code",
   "execution_count": 5,
   "id": "31b76829",
   "metadata": {},
   "outputs": [
    {
     "data": {
      "text/plain": [
       "64"
      ]
     },
     "execution_count": 5,
     "metadata": {},
     "output_type": "execute_result"
    }
   ],
   "source": [
    "(6+2)*(7+1)"
   ]
  },
  {
   "cell_type": "code",
   "execution_count": 6,
   "id": "9898abb2",
   "metadata": {},
   "outputs": [],
   "source": [
    "b=7\n",
    "\n",
    "a=\"hi {} {}\".format(b,8)\n",
    "\n",
    "\n",
    "\n",
    "    \n",
    "    \n"
   ]
  },
  {
   "cell_type": "code",
   "execution_count": 7,
   "id": "9ba6491b",
   "metadata": {},
   "outputs": [
    {
     "name": "stdout",
     "output_type": "stream",
     "text": [
      "hi 7, 8\n"
     ]
    }
   ],
   "source": [
    "print(f\"hi {b}, {8}\")"
   ]
  },
  {
   "cell_type": "markdown",
   "id": "1349c7c2",
   "metadata": {},
   "source": [
    "print('om')"
   ]
  },
  {
   "cell_type": "code",
   "execution_count": 8,
   "id": "a550a6d6",
   "metadata": {},
   "outputs": [],
   "source": [
    "l2=[1,2,3,4,5,6]"
   ]
  },
  {
   "cell_type": "code",
   "execution_count": 9,
   "id": "2b1cd4a1",
   "metadata": {},
   "outputs": [
    {
     "data": {
      "text/plain": [
       "1"
      ]
     },
     "execution_count": 9,
     "metadata": {},
     "output_type": "execute_result"
    }
   ],
   "source": [
    "l2[0]"
   ]
  },
  {
   "cell_type": "code",
   "execution_count": 10,
   "id": "d6aa67a0",
   "metadata": {},
   "outputs": [],
   "source": [
    "l=[\"om\", \"ravina\",\"jyoti\"]"
   ]
  },
  {
   "cell_type": "code",
   "execution_count": 49,
   "id": "8ee97b8b",
   "metadata": {},
   "outputs": [
    {
     "data": {
      "text/plain": [
       "[1, 2, 3, 4, 5, 6]"
      ]
     },
     "execution_count": 49,
     "metadata": {},
     "output_type": "execute_result"
    }
   ],
   "source": [
    "l2"
   ]
  },
  {
   "cell_type": "code",
   "execution_count": 55,
   "id": "c1fbebb2",
   "metadata": {},
   "outputs": [
    {
     "data": {
      "text/plain": [
       "[6, 4, 2]"
      ]
     },
     "execution_count": 55,
     "metadata": {},
     "output_type": "execute_result"
    }
   ],
   "source": [
    " l2[1:6:2]"
   ]
  },
  {
   "cell_type": "code",
   "execution_count": 19,
   "id": "95e27115",
   "metadata": {},
   "outputs": [
    {
     "data": {
      "text/plain": [
       "5"
      ]
     },
     "execution_count": 19,
     "metadata": {},
     "output_type": "execute_result"
    }
   ],
   "source": [
    "l2[-2]"
   ]
  },
  {
   "cell_type": "code",
   "execution_count": 15,
   "id": "a878ec8f",
   "metadata": {},
   "outputs": [
    {
     "data": {
      "text/plain": [
       "1"
      ]
     },
     "execution_count": 15,
     "metadata": {},
     "output_type": "execute_result"
    }
   ],
   "source": [
    "l.index('ravina')"
   ]
  },
  {
   "cell_type": "code",
   "execution_count": 56,
   "id": "5ab123b2",
   "metadata": {},
   "outputs": [],
   "source": [
    "s=\"This Iy python\""
   ]
  },
  {
   "cell_type": "code",
   "execution_count": 57,
   "id": "afdc1feb",
   "metadata": {},
   "outputs": [
    {
     "data": {
      "text/plain": [
       "'This Iy python'"
      ]
     },
     "execution_count": 57,
     "metadata": {},
     "output_type": "execute_result"
    }
   ],
   "source": [
    "s"
   ]
  },
  {
   "cell_type": "code",
   "execution_count": 63,
   "id": "db3edf51",
   "metadata": {},
   "outputs": [
    {
     "data": {
      "text/plain": [
       "['T', 'is Iy pyt', 'on']"
      ]
     },
     "execution_count": 63,
     "metadata": {},
     "output_type": "execute_result"
    }
   ],
   "source": [
    "s.split('h')"
   ]
  },
  {
   "cell_type": "code",
   "execution_count": 68,
   "id": "a5cf2b68",
   "metadata": {},
   "outputs": [],
   "source": [
    "l=[1,2]"
   ]
  },
  {
   "cell_type": "code",
   "execution_count": 73,
   "id": "ee59ae96",
   "metadata": {},
   "outputs": [],
   "source": [
    "l.append(5)"
   ]
  },
  {
   "cell_type": "code",
   "execution_count": 74,
   "id": "3ccd4598",
   "metadata": {},
   "outputs": [
    {
     "data": {
      "text/plain": [
       "[1, 2, 4, 2, 3, 5]"
      ]
     },
     "execution_count": 74,
     "metadata": {},
     "output_type": "execute_result"
    }
   ],
   "source": [
    "l"
   ]
  },
  {
   "cell_type": "code",
   "execution_count": 75,
   "id": "f803bf13",
   "metadata": {},
   "outputs": [
    {
     "name": "stdout",
     "output_type": "stream",
     "text": [
      "454fds\n"
     ]
    }
   ],
   "source": [
    "a=input()"
   ]
  },
  {
   "cell_type": "code",
   "execution_count": 76,
   "id": "aea1d682",
   "metadata": {},
   "outputs": [
    {
     "data": {
      "text/plain": [
       "'454fds'"
      ]
     },
     "execution_count": 76,
     "metadata": {},
     "output_type": "execute_result"
    }
   ],
   "source": [
    "a"
   ]
  },
  {
   "cell_type": "code",
   "execution_count": 77,
   "id": "b9b840f1",
   "metadata": {},
   "outputs": [],
   "source": [
    "l.append(a)"
   ]
  },
  {
   "cell_type": "code",
   "execution_count": 78,
   "id": "454acdb2",
   "metadata": {},
   "outputs": [
    {
     "data": {
      "text/plain": [
       "[1, 2, 4, 2, 3, 5, '454fds']"
      ]
     },
     "execution_count": 78,
     "metadata": {},
     "output_type": "execute_result"
    }
   ],
   "source": [
    "l"
   ]
  },
  {
   "cell_type": "code",
   "execution_count": 80,
   "id": "0f4d1639",
   "metadata": {},
   "outputs": [],
   "source": [
    "l[2]='om'"
   ]
  },
  {
   "cell_type": "code",
   "execution_count": 81,
   "id": "59210990",
   "metadata": {},
   "outputs": [
    {
     "data": {
      "text/plain": [
       "[1, 2, 'om', 2, 3, 5, '454fds']"
      ]
     },
     "execution_count": 81,
     "metadata": {},
     "output_type": "execute_result"
    }
   ],
   "source": [
    "l"
   ]
  },
  {
   "cell_type": "code",
   "execution_count": 82,
   "id": "56320ee2",
   "metadata": {
    "scrolled": true
   },
   "outputs": [
    {
     "data": {
      "text/plain": [
       "7"
      ]
     },
     "execution_count": 82,
     "metadata": {},
     "output_type": "execute_result"
    }
   ],
   "source": [
    "len(l)"
   ]
  },
  {
   "cell_type": "code",
   "execution_count": null,
   "id": "cc329827",
   "metadata": {},
   "outputs": [],
   "source": []
  }
 ],
 "metadata": {
  "kernelspec": {
   "display_name": "Python 3 (ipykernel)",
   "language": "python",
   "name": "python3"
  },
  "language_info": {
   "codemirror_mode": {
    "name": "ipython",
    "version": 3
   },
   "file_extension": ".py",
   "mimetype": "text/x-python",
   "name": "python",
   "nbconvert_exporter": "python",
   "pygments_lexer": "ipython3",
   "version": "3.9.7"
  },
  "widgets": {
   "application/vnd.jupyter.widget-state+json": {
    "state": {},
    "version_major": 2,
    "version_minor": 0
   }
  }
 },
 "nbformat": 4,
 "nbformat_minor": 5
}
